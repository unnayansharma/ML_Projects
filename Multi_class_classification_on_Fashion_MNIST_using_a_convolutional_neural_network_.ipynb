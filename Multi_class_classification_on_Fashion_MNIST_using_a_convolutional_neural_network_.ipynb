{
  "cells": [
    {
      "cell_type": "code",
      "execution_count": null,
      "metadata": {
        "id": "hLSrCNIvCpwQ"
      },
      "outputs": [],
      "source": [
        "import keras\n",
        "from keras.datasets import fashion_mnist"
      ]
    },
    {
      "cell_type": "code",
      "execution_count": null,
      "metadata": {
        "colab": {
          "base_uri": "https://localhost:8080/"
        },
        "id": "TwikCvy-CsOU",
        "outputId": "b1551633-04a5-4f17-93c6-250e029e7eed"
      },
      "outputs": [
        {
          "output_type": "stream",
          "name": "stdout",
          "text": [
            "Downloading data from https://storage.googleapis.com/tensorflow/tf-keras-datasets/train-labels-idx1-ubyte.gz\n",
            "32768/29515 [=================================] - 0s 0us/step\n",
            "40960/29515 [=========================================] - 0s 0us/step\n",
            "Downloading data from https://storage.googleapis.com/tensorflow/tf-keras-datasets/train-images-idx3-ubyte.gz\n",
            "26427392/26421880 [==============================] - 0s 0us/step\n",
            "26435584/26421880 [==============================] - 0s 0us/step\n",
            "Downloading data from https://storage.googleapis.com/tensorflow/tf-keras-datasets/t10k-labels-idx1-ubyte.gz\n",
            "16384/5148 [===============================================================================================] - 0s 0us/step\n",
            "Downloading data from https://storage.googleapis.com/tensorflow/tf-keras-datasets/t10k-images-idx3-ubyte.gz\n",
            "4423680/4422102 [==============================] - 0s 0us/step\n",
            "4431872/4422102 [==============================] - 0s 0us/step\n"
          ]
        },
        {
          "output_type": "execute_result",
          "data": {
            "text/plain": [
              "((array([[[0, 0, 0, ..., 0, 0, 0],\n",
              "          [0, 0, 0, ..., 0, 0, 0],\n",
              "          [0, 0, 0, ..., 0, 0, 0],\n",
              "          ...,\n",
              "          [0, 0, 0, ..., 0, 0, 0],\n",
              "          [0, 0, 0, ..., 0, 0, 0],\n",
              "          [0, 0, 0, ..., 0, 0, 0]],\n",
              "  \n",
              "         [[0, 0, 0, ..., 0, 0, 0],\n",
              "          [0, 0, 0, ..., 0, 0, 0],\n",
              "          [0, 0, 0, ..., 0, 0, 0],\n",
              "          ...,\n",
              "          [0, 0, 0, ..., 0, 0, 0],\n",
              "          [0, 0, 0, ..., 0, 0, 0],\n",
              "          [0, 0, 0, ..., 0, 0, 0]],\n",
              "  \n",
              "         [[0, 0, 0, ..., 0, 0, 0],\n",
              "          [0, 0, 0, ..., 0, 0, 0],\n",
              "          [0, 0, 0, ..., 0, 0, 0],\n",
              "          ...,\n",
              "          [0, 0, 0, ..., 0, 0, 0],\n",
              "          [0, 0, 0, ..., 0, 0, 0],\n",
              "          [0, 0, 0, ..., 0, 0, 0]],\n",
              "  \n",
              "         ...,\n",
              "  \n",
              "         [[0, 0, 0, ..., 0, 0, 0],\n",
              "          [0, 0, 0, ..., 0, 0, 0],\n",
              "          [0, 0, 0, ..., 0, 0, 0],\n",
              "          ...,\n",
              "          [0, 0, 0, ..., 0, 0, 0],\n",
              "          [0, 0, 0, ..., 0, 0, 0],\n",
              "          [0, 0, 0, ..., 0, 0, 0]],\n",
              "  \n",
              "         [[0, 0, 0, ..., 0, 0, 0],\n",
              "          [0, 0, 0, ..., 0, 0, 0],\n",
              "          [0, 0, 0, ..., 0, 0, 0],\n",
              "          ...,\n",
              "          [0, 0, 0, ..., 0, 0, 0],\n",
              "          [0, 0, 0, ..., 0, 0, 0],\n",
              "          [0, 0, 0, ..., 0, 0, 0]],\n",
              "  \n",
              "         [[0, 0, 0, ..., 0, 0, 0],\n",
              "          [0, 0, 0, ..., 0, 0, 0],\n",
              "          [0, 0, 0, ..., 0, 0, 0],\n",
              "          ...,\n",
              "          [0, 0, 0, ..., 0, 0, 0],\n",
              "          [0, 0, 0, ..., 0, 0, 0],\n",
              "          [0, 0, 0, ..., 0, 0, 0]]], dtype=uint8),\n",
              "  array([9, 0, 0, ..., 3, 0, 5], dtype=uint8)),\n",
              " (array([[[0, 0, 0, ..., 0, 0, 0],\n",
              "          [0, 0, 0, ..., 0, 0, 0],\n",
              "          [0, 0, 0, ..., 0, 0, 0],\n",
              "          ...,\n",
              "          [0, 0, 0, ..., 0, 0, 0],\n",
              "          [0, 0, 0, ..., 0, 0, 0],\n",
              "          [0, 0, 0, ..., 0, 0, 0]],\n",
              "  \n",
              "         [[0, 0, 0, ..., 0, 0, 0],\n",
              "          [0, 0, 0, ..., 0, 0, 0],\n",
              "          [0, 0, 0, ..., 0, 0, 0],\n",
              "          ...,\n",
              "          [0, 0, 0, ..., 0, 0, 0],\n",
              "          [0, 0, 0, ..., 0, 0, 0],\n",
              "          [0, 0, 0, ..., 0, 0, 0]],\n",
              "  \n",
              "         [[0, 0, 0, ..., 0, 0, 0],\n",
              "          [0, 0, 0, ..., 0, 0, 0],\n",
              "          [0, 0, 0, ..., 0, 0, 0],\n",
              "          ...,\n",
              "          [0, 0, 0, ..., 0, 0, 0],\n",
              "          [0, 0, 0, ..., 0, 0, 0],\n",
              "          [0, 0, 0, ..., 0, 0, 0]],\n",
              "  \n",
              "         ...,\n",
              "  \n",
              "         [[0, 0, 0, ..., 0, 0, 0],\n",
              "          [0, 0, 0, ..., 0, 0, 0],\n",
              "          [0, 0, 0, ..., 0, 0, 0],\n",
              "          ...,\n",
              "          [0, 0, 0, ..., 0, 0, 0],\n",
              "          [0, 0, 0, ..., 0, 0, 0],\n",
              "          [0, 0, 0, ..., 0, 0, 0]],\n",
              "  \n",
              "         [[0, 0, 0, ..., 0, 0, 0],\n",
              "          [0, 0, 0, ..., 0, 0, 0],\n",
              "          [0, 0, 0, ..., 0, 0, 0],\n",
              "          ...,\n",
              "          [0, 0, 0, ..., 0, 0, 0],\n",
              "          [0, 0, 0, ..., 0, 0, 0],\n",
              "          [0, 0, 0, ..., 0, 0, 0]],\n",
              "  \n",
              "         [[0, 0, 0, ..., 0, 0, 0],\n",
              "          [0, 0, 0, ..., 0, 0, 0],\n",
              "          [0, 0, 0, ..., 0, 0, 0],\n",
              "          ...,\n",
              "          [0, 0, 0, ..., 0, 0, 0],\n",
              "          [0, 0, 0, ..., 0, 0, 0],\n",
              "          [0, 0, 0, ..., 0, 0, 0]]], dtype=uint8),\n",
              "  array([9, 2, 1, ..., 8, 1, 5], dtype=uint8)))"
            ]
          },
          "metadata": {},
          "execution_count": 2
        }
      ],
      "source": [
        "fashion_data = fashion_mnist.load_data()\n",
        "fashion_data"
      ]
    },
    {
      "cell_type": "code",
      "execution_count": null,
      "metadata": {
        "id": "0iWGefRgCunl"
      },
      "outputs": [],
      "source": [
        "import matplotlib.pyplot as plt\n",
        "import numpy as np"
      ]
    },
    {
      "cell_type": "markdown",
      "metadata": {
        "id": "7JDG1I6OCw2h"
      },
      "source": [
        "1. Explore the Dataset. Display one randomly selected image from each fashion class. **(5 points)**"
      ]
    },
    {
      "cell_type": "code",
      "execution_count": null,
      "metadata": {
        "colab": {
          "base_uri": "https://localhost:8080/",
          "height": 256
        },
        "id": "GwmI2ExPCy7Z",
        "outputId": "2024b6cb-c133-4166-ece6-89a842892d29"
      },
      "outputs": [
        {
          "output_type": "display_data",
          "data": {
            "text/plain": [
              "<Figure size 720x720 with 10 Axes>"
            ],
            "image/png": "[encoded data removed]"
          },
          "metadata": {
            "needs_background": "light"
          }
        }
      ],
      "source": [
        "(trainX, trainy), (testX, testy) = fashion_data\n",
        "clas, index, number = np.unique(trainy, return_counts=True,return_index=True)\n",
        "plt.figure(figsize=(10, 10))\n",
        "for i in range(10):\n",
        "  plt.subplot(5,5,i+1)\n",
        "  plt.imshow(trainX[index[i]], cmap=plt.get_cmap('gray'))\n",
        "plt.show()"
      ]
    },
    {
      "cell_type": "markdown",
      "metadata": {
        "id": "jyaXqZy6C2Qw"
      },
      "source": [
        "2. Plot the distribution of number of images in each fashion class. Is the distribution uniform? Comment. **(5 points)**"
      ]
    },
    {
      "cell_type": "code",
      "execution_count": null,
      "metadata": {
        "colab": {
          "base_uri": "https://localhost:8080/",
          "height": 469
        },
        "id": "yw5J9JORC4ie",
        "outputId": "10376dcd-6931-4e18-f4a5-94153719fa9e"
      },
      "outputs": [
        {
          "output_type": "stream",
          "name": "stdout",
          "text": [
            "[[   0 6000]\n",
            " [   1 6000]\n",
            " [   2 6000]\n",
            " [   3 6000]\n",
            " [   4 6000]\n",
            " [   5 6000]\n",
            " [   6 6000]\n",
            " [   7 6000]\n",
            " [   8 6000]\n",
            " [   9 6000]]\n"
          ]
        },
        {
          "output_type": "display_data",
          "data": {
            "text/plain": [
              "<Figure size 432x288 with 1 Axes>"
            ],
            "image/png": "[encoded data removed]"
          },
          "metadata": {
            "needs_background": "light"
          }
        }
      ],
      "source": [
        "distribution = np.column_stack((clas, number)) \n",
        "print (distribution)\n",
        "plt.bar(clas, number, color ='blue', width = 0.3)\n",
        "plt.xticks(clas)\n",
        "plt.xlabel(\"Classes\")\n",
        "plt.ylabel(\"No. of samples\")\n",
        "plt.title(\"No. of samples for each class\")\n",
        "plt.show()"
      ]
    },
    {
      "cell_type": "markdown",
      "metadata": {
        "id": "7ClpNqT2C7Od"
      },
      "source": [
        "Yes the distribution is uniform. Each class is having 6000 samples making a total of 60K samples divided in 10 classes."
      ]
    },
    {
      "cell_type": "markdown",
      "metadata": {
        "id": "aj-8I-YJC92S"
      },
      "source": [
        "3. Implememnt the 2D convolution function using a kernel size of 3x3. Use the [sobel kernel](https://en.wikipedia.org/wiki/Sobel_operator) and display the feature map for one example from each fashion class. For using sobel kernel, you need to calculate two convolutions, one for x-direction (x) and one for y-direction (y), the feature map then can be calculated as $F_m = \\sqrt(x^2 + y^2)$**(10 points)**"
      ]
    },
    {
      "cell_type": "code",
      "execution_count": null,
      "metadata": {
        "id": "sl7jkbn8C_YI"
      },
      "outputs": [],
      "source": [
        "sobel_x = np.array([\n",
        "    [-1, 0, +1],\n",
        "    [-2, 0, +2],\n",
        "    [-1, 0, +1]])\n",
        "sobel_y = np.array([\n",
        "    [+1, +2, +1],\n",
        "    [0, 0, 0],\n",
        "    [-1, -2, -1]])"
      ]
    },
    {
      "cell_type": "code",
      "execution_count": null,
      "metadata": {
        "id": "jQ5WgdBDDCYJ"
      },
      "outputs": [],
      "source": [
        "def convolve(img, kernel):\n",
        "  img_size=img.shape[0]\n",
        "  kernel_size=kernel.shape[0]\n",
        "  num_pixels = 0\n",
        "  for i in range(img_size):\n",
        "    added = i + kernel_size\n",
        "    if added <= img_size:\n",
        "      num_pixels += 1\n",
        "  k = kernel.shape[0]\n",
        "  convolved_img = np.zeros(shape=(num_pixels, num_pixels))\n",
        "\n",
        "  for i in range(num_pixels):\n",
        "    for j in range(num_pixels):\n",
        "      mat = img[i:i+k, j:j+k]\n",
        "      convolved_img[i, j] = np.sum(np.multiply(mat, kernel))\n",
        "  return convolved_img"
      ]
    },
    {
      "cell_type": "code",
      "execution_count": null,
      "metadata": {
        "id": "juC6hp3TDEWm"
      },
      "outputs": [],
      "source": [
        "feature_map_list=[]\n",
        "for i in range(10):\n",
        "  img_sobel_x = convolve(np.array(trainX[index[i]]), sobel_x) # x\n",
        "  img_sobel_y = convolve(np.array(trainX[index[i]]), sobel_y) # y\n",
        "  feature_map = np.sqrt(img_sobel_x**2 + img_sobel_y**2) # Feature Map = √(x^2+y^2)\n",
        "  feature_map_list.append(feature_map)"
      ]
    },
    {
      "cell_type": "code",
      "execution_count": null,
      "metadata": {
        "colab": {
          "base_uri": "https://localhost:8080/",
          "height": 256
        },
        "id": "pS92ddq-DGQo",
        "outputId": "e7890f26-a723-45b7-aafb-4711ec5de88b"
      },
      "outputs": [
        {
          "output_type": "display_data",
          "data": {
            "text/plain": [
              "<Figure size 720x720 with 10 Axes>"
            ],
            "image/png": "[encoded data removed]"
          },
          "metadata": {
            "needs_background": "light"
          }
        }
      ],
      "source": [
        "plt.figure(figsize=(10, 10))\n",
        "for i in range(10):\n",
        "  plt.subplot(5,5,i+1)\n",
        "  plt.imshow(feature_map_list[i], cmap=plt.get_cmap('gray'))\n",
        "plt.show()"
      ]
    },
    {
      "cell_type": "markdown",
      "metadata": {
        "id": "LSyV91HvDIeb"
      },
      "source": [
        "4. Using the Keras library, implement a CNN model for classification. Use the following network architecture:  **(5 points)**\n",
        "*  Input layer\n",
        "*  Con2D with 32 3x3 kernals and ReLU activation\n",
        "*  Max Pooling layer with pool-size 2x2\n",
        "*  Con2D with 64 3x3 kernals and ReLU ReLU activation\n",
        "*  Max Pooling layer with size 2x2\n",
        "*  Dropout\n",
        "*  Fully Connected Layer with softmax activation"
      ]
    },
    {
      "cell_type": "code",
      "execution_count": null,
      "metadata": {
        "id": "AjejjHmzDKnC"
      },
      "outputs": [],
      "source": [
        "from keras.models import Sequential\n",
        "from keras.layers.convolutional import Conv2D,MaxPooling2D\n",
        "from keras.layers import Dropout\n",
        "from keras.layers import Dense\n",
        "import tensorflow as tf\n",
        "from tensorflow.keras.optimizers import Adam\n",
        "from tensorflow.keras.utils import to_categorical"
      ]
    },
    {
      "cell_type": "code",
      "execution_count": null,
      "metadata": {
        "id": "CYHC5D-WDMdJ"
      },
      "outputs": [],
      "source": [
        "def MyModel():\n",
        "  model = Sequential()\n",
        "  model.add(Conv2D(32, kernel_size=3, activation='relu'))\n",
        "  model.add(MaxPooling2D(pool_size=(2, 2)))\n",
        "  model.add(Conv2D(64, kernel_size=3, activation='relu'))\n",
        "  model.add(MaxPooling2D(pool_size=(2, 2)))\n",
        "  model.add(Dropout(0.2, noise_shape = None, seed = None))\n",
        "  model.add(keras.layers.Flatten())\n",
        "  model.add(Dense(10, activation='softmax'))\n",
        "  return model"
      ]
    },
    {
      "cell_type": "markdown",
      "metadata": {
        "id": "1G0RAH4JDOkM"
      },
      "source": [
        "3. Implement a custom cross-entropy loss (error function) for the multi-class classification. Use it for traning the model. **(5 points)**\n"
      ]
    },
    {
      "cell_type": "code",
      "execution_count": null,
      "metadata": {
        "id": "8W_65LJNDQeP"
      },
      "outputs": [],
      "source": [
        "def cross_entropy(y,y_pre):\n",
        "  loss=-tf.math.reduce_sum(y*tf.math.log(y_pre))\n",
        "  t1=float(y_pre.shape[0])\n",
        "  loss1=loss/t1\n",
        "  return loss1"
      ]
    },
    {
      "cell_type": "code",
      "execution_count": null,
      "metadata": {
        "id": "8eLBEs1aDS2M"
      },
      "outputs": [],
      "source": [
        "trainX = np.array(trainX, dtype='float32')\n",
        "testX = np.array(testX, dtype='float32')\n",
        "trainy = np.array(trainy, dtype='float32')\n",
        "testy = np.array(testy, dtype='float32')"
      ]
    },
    {
      "cell_type": "code",
      "execution_count": null,
      "metadata": {
        "id": "dVVKqpNhDU3w"
      },
      "outputs": [],
      "source": [
        "trainX = trainX / 255\n",
        "testX = testX / 255"
      ]
    },
    {
      "cell_type": "code",
      "execution_count": null,
      "metadata": {
        "colab": {
          "base_uri": "https://localhost:8080/"
        },
        "id": "pgH9VLkWDW6Y",
        "outputId": "9f675048-3025-4953-c26c-537e68a01dcc"
      },
      "outputs": [
        {
          "output_type": "stream",
          "name": "stdout",
          "text": [
            "x_train shape: (60000, 28, 28, 1)\n",
            "x_test shape: (10000, 28, 28, 1)\n"
          ]
        }
      ],
      "source": [
        "im_rows = 28\n",
        "im_cols = 28\n",
        "im_shape = (im_rows, im_cols, 1)\n",
        "\n",
        "trainX = trainX.reshape(trainX.shape[0], *im_shape)\n",
        "testX = testX.reshape(testX.shape[0], *im_shape)\n",
        "\n",
        "print('x_train shape: {}'.format(trainX.shape))\n",
        "print('x_test shape: {}'.format(testX.shape))"
      ]
    },
    {
      "cell_type": "code",
      "execution_count": null,
      "metadata": {
        "id": "ebhQmScwDZBs"
      },
      "outputs": [],
      "source": [
        "trainy = to_categorical(trainy)\n",
        "testy = to_categorical(testy)"
      ]
    },
    {
      "cell_type": "markdown",
      "metadata": {
        "id": "V_2q7BnJDbjy"
      },
      "source": [
        "4. Compile and train your model with four different optimizers viz. SGD\n",
        "RMSprop, Adam, Adagrad. Plot the training loss for all four optimizers. Comment on your observations. **(10 points)**"
      ]
    },
    {
      "cell_type": "code",
      "execution_count": null,
      "metadata": {
        "id": "J2fQlBhVDdnL"
      },
      "outputs": [],
      "source": [
        "Training_Loss=[]"
      ]
    },
    {
      "cell_type": "code",
      "execution_count": null,
      "metadata": {
        "colab": {
          "base_uri": "https://localhost:8080/"
        },
        "id": "BRpMoBWhDfYo",
        "outputId": "97bacab3-b5a8-4b35-b635-339f9713bf89"
      },
      "outputs": [
        {
          "output_type": "stream",
          "name": "stdout",
          "text": [
            "Epoch 1/10\n",
            "1875/1875 [==============================] - 55s 29ms/step - loss: 0.9127 - accuracy: 0.6758\n",
            "Epoch 2/10\n",
            "1875/1875 [==============================] - 56s 30ms/step - loss: 0.5610 - accuracy: 0.7950\n",
            "Epoch 3/10\n",
            "1875/1875 [==============================] - 56s 30ms/step - loss: 0.4961 - accuracy: 0.8216\n",
            "Epoch 4/10\n",
            "1875/1875 [==============================] - 54s 29ms/step - loss: 0.4631 - accuracy: 0.8330\n",
            "Epoch 5/10\n",
            "1875/1875 [==============================] - 54s 29ms/step - loss: 0.4410 - accuracy: 0.8411\n",
            "Epoch 6/10\n",
            "1875/1875 [==============================] - 54s 29ms/step - loss: 0.4234 - accuracy: 0.8476\n",
            "Epoch 7/10\n",
            "1875/1875 [==============================] - 54s 29ms/step - loss: 0.4110 - accuracy: 0.8535\n",
            "Epoch 8/10\n",
            "1875/1875 [==============================] - 54s 29ms/step - loss: 0.3994 - accuracy: 0.8563\n",
            "Epoch 9/10\n",
            "1875/1875 [==============================] - 54s 29ms/step - loss: 0.3890 - accuracy: 0.8595\n",
            "Epoch 10/10\n",
            "1875/1875 [==============================] - 54s 29ms/step - loss: 0.3811 - accuracy: 0.8611\n"
          ]
        }
      ],
      "source": [
        "# SGD\n",
        "model1=MyModel()\n",
        "model1.compile(optimizer='sgd', loss=cross_entropy, metrics=['accuracy'])\n",
        "history1 = model1.fit(trainX, trainy, epochs=10)\n",
        "loss1=history1.history['loss']\n",
        "Training_Loss.append(loss1[-1])"
      ]
    },
    {
      "cell_type": "code",
      "execution_count": null,
      "metadata": {
        "id": "7cQyNg0xDhcj",
        "colab": {
          "base_uri": "https://localhost:8080/"
        },
        "outputId": "d1eb2fd1-d909-4e82-b229-e8d9c1efec23"
      },
      "outputs": [
        {
          "output_type": "stream",
          "name": "stdout",
          "text": [
            "Epoch 1/10\n",
            "1875/1875 [==============================] - 58s 30ms/step - loss: 0.4954 - accuracy: 0.8201\n",
            "Epoch 2/10\n",
            "1875/1875 [==============================] - 57s 30ms/step - loss: 0.3519 - accuracy: 0.8742\n",
            "Epoch 3/10\n",
            "1875/1875 [==============================] - 57s 30ms/step - loss: 0.3126 - accuracy: 0.8884\n",
            "Epoch 4/10\n",
            "1875/1875 [==============================] - 56s 30ms/step - loss: 0.2924 - accuracy: 0.8948\n",
            "Epoch 5/10\n",
            "1875/1875 [==============================] - 56s 30ms/step - loss: 0.2784 - accuracy: 0.9011\n",
            "Epoch 6/10\n",
            "1875/1875 [==============================] - 56s 30ms/step - loss: 0.2680 - accuracy: 0.9047\n",
            "Epoch 7/10\n",
            "1875/1875 [==============================] - 56s 30ms/step - loss: 0.2592 - accuracy: 0.9081\n",
            "Epoch 8/10\n",
            "1875/1875 [==============================] - 56s 30ms/step - loss: 0.2557 - accuracy: 0.9089\n",
            "Epoch 9/10\n",
            "1875/1875 [==============================] - 56s 30ms/step - loss: 0.2484 - accuracy: 0.9111\n",
            "Epoch 10/10\n",
            "1875/1875 [==============================] - 58s 31ms/step - loss: 0.2456 - accuracy: 0.9134\n"
          ]
        }
      ],
      "source": [
        "# RMSprop\n",
        "model2=MyModel()\n",
        "model2.compile(optimizer='RMSprop', loss=cross_entropy, metrics=['accuracy'])\n",
        "history2 = model2.fit(trainX, trainy, epochs=10)\n",
        "loss2=history2.history['loss']\n",
        "Training_Loss.append(loss2[-1])"
      ]
    },
    {
      "cell_type": "code",
      "execution_count": null,
      "metadata": {
        "id": "YJRRkG1JDjav",
        "colab": {
          "base_uri": "https://localhost:8080/"
        },
        "outputId": "4147e1d3-14ea-425d-a5b3-f189734d95ac"
      },
      "outputs": [
        {
          "output_type": "stream",
          "name": "stdout",
          "text": [
            "Epoch 1/10\n",
            "1875/1875 [==============================] - 63s 33ms/step - loss: 0.5011 - accuracy: 0.8202\n",
            "Epoch 2/10\n",
            "1875/1875 [==============================] - 56s 30ms/step - loss: 0.3471 - accuracy: 0.8744\n",
            "Epoch 3/10\n",
            "1875/1875 [==============================] - 57s 30ms/step - loss: 0.3100 - accuracy: 0.8879\n",
            "Epoch 4/10\n",
            "1875/1875 [==============================] - 55s 29ms/step - loss: 0.2843 - accuracy: 0.8964\n",
            "Epoch 5/10\n",
            "1875/1875 [==============================] - 53s 28ms/step - loss: 0.2651 - accuracy: 0.9038\n",
            "Epoch 6/10\n",
            "1875/1875 [==============================] - 54s 29ms/step - loss: 0.2530 - accuracy: 0.9086\n",
            "Epoch 7/10\n",
            "1875/1875 [==============================] - 54s 29ms/step - loss: 0.2402 - accuracy: 0.9136\n",
            "Epoch 8/10\n",
            "1875/1875 [==============================] - 57s 30ms/step - loss: 0.2305 - accuracy: 0.9154\n",
            "Epoch 9/10\n",
            "1875/1875 [==============================] - 56s 30ms/step - loss: 0.2242 - accuracy: 0.9186\n",
            "Epoch 10/10\n",
            "1875/1875 [==============================] - 55s 29ms/step - loss: 0.2165 - accuracy: 0.9211\n"
          ]
        }
      ],
      "source": [
        "# adam\n",
        "model3=MyModel()\n",
        "model3.compile(optimizer='adam', loss=cross_entropy, metrics=['accuracy'])\n",
        "history3 = model3.fit(trainX, trainy, epochs=10)\n",
        "loss3=history3.history['loss']\n",
        "Training_Loss.append(loss3[-1])"
      ]
    },
    {
      "cell_type": "code",
      "execution_count": null,
      "metadata": {
        "id": "DUjdgEyhDld4",
        "colab": {
          "base_uri": "https://localhost:8080/"
        },
        "outputId": "79db399a-d3a3-4897-fcb2-eb49c42f84f1"
      },
      "outputs": [
        {
          "output_type": "stream",
          "name": "stdout",
          "text": [
            "Epoch 1/10\n",
            "1875/1875 [==============================] - 56s 30ms/step - loss: 1.5467 - accuracy: 0.4953\n",
            "Epoch 2/10\n",
            "1875/1875 [==============================] - 55s 30ms/step - loss: 0.9001 - accuracy: 0.6771\n",
            "Epoch 3/10\n",
            "1875/1875 [==============================] - 55s 29ms/step - loss: 0.7861 - accuracy: 0.7173\n",
            "Epoch 4/10\n",
            "1875/1875 [==============================] - 54s 29ms/step - loss: 0.7278 - accuracy: 0.7364\n",
            "Epoch 5/10\n",
            "1875/1875 [==============================] - 54s 29ms/step - loss: 0.6871 - accuracy: 0.7503\n",
            "Epoch 6/10\n",
            "1875/1875 [==============================] - 53s 28ms/step - loss: 0.6597 - accuracy: 0.7601\n",
            "Epoch 7/10\n",
            "1875/1875 [==============================] - 54s 29ms/step - loss: 0.6346 - accuracy: 0.7674\n",
            "Epoch 8/10\n",
            "1875/1875 [==============================] - 53s 28ms/step - loss: 0.6186 - accuracy: 0.7726\n",
            "Epoch 9/10\n",
            "1875/1875 [==============================] - 53s 28ms/step - loss: 0.6015 - accuracy: 0.7798\n",
            "Epoch 10/10\n",
            "1875/1875 [==============================] - 53s 28ms/step - loss: 0.5900 - accuracy: 0.7850\n"
          ]
        }
      ],
      "source": [
        "# Adagrad\n",
        "model4=MyModel()\n",
        "model4.compile(optimizer='Adagrad', loss=cross_entropy, metrics=['accuracy'])\n",
        "history4 = model4.fit(trainX, trainy, epochs=10)\n",
        "loss4=history4.history['loss']\n",
        "Training_Loss.append(loss4[-1])"
      ]
    },
    {
      "cell_type": "code",
      "execution_count": null,
      "metadata": {
        "id": "AIPPsxbRDnq6",
        "colab": {
          "base_uri": "https://localhost:8080/"
        },
        "outputId": "ce9dfae6-4753-4313-b275-ba9e69f8f2e0"
      },
      "outputs": [
        {
          "output_type": "stream",
          "name": "stdout",
          "text": [
            "[0.38105320930480957, 0.24560418725013733, 0.2164572924375534, 0.5900447368621826]\n"
          ]
        }
      ],
      "source": [
        "print(Training_Loss)"
      ]
    },
    {
      "cell_type": "code",
      "execution_count": null,
      "metadata": {
        "id": "XWtzFGlcDpjp",
        "colab": {
          "base_uri": "https://localhost:8080/",
          "height": 295
        },
        "outputId": "3c4e97cf-a305-431a-bbd5-dcb46ce296b3"
      },
      "outputs": [
        {
          "output_type": "display_data",
          "data": {
            "text/plain": [
              "<Figure size 432x288 with 1 Axes>"
            ],
            "image/png": "[encoded data removed]"
          },
          "metadata": {
            "needs_background": "light"
          }
        }
      ],
      "source": [
        "Optimizers=[\"SGD\",\"RMSprop\",\"adam\",\"Adagrad\"]\n",
        "plt.bar(Optimizers, Training_Loss, color ='maroon',width = 0.4)\n",
        "plt.xlabel('Optimizers')\n",
        "plt.ylabel('Training Loss')\n",
        "plt.title('Optimizers vs Training')\n",
        "plt.show()"
      ]
    },
    {
      "cell_type": "markdown",
      "source": [
        "**Observations**\n",
        "\n",
        "Training Loss varies in all the optimizers. Adagrad is giving highest loss of around 0.6 while adam has a pretty much low loss of around 0.2.\n",
        "\n",
        "So in the upcoming observations we will be using adam as our optimizer."
      ],
      "metadata": {
        "id": "QenvhYjcsOOD"
      }
    },
    {
      "cell_type": "markdown",
      "metadata": {
        "id": "IElgzfR3Dr_3"
      },
      "source": [
        "5. Choose different hyperparameters for Conv Layers, change number of Conv layer and drop-out rate and train your model. Plot training and test accuracies and losses wrt epochs for different hyper-parameters. Do you find any improvement in classification performance. Report your analysis. **(10 points)**"
      ]
    },
    {
      "cell_type": "code",
      "execution_count": null,
      "metadata": {
        "id": "okS4dSosVic-"
      },
      "outputs": [],
      "source": [
        "# Hyperparameters :\n",
        "# One Conv2D layer with 64 filters\n",
        "# Dropout rate = 0.1\n",
        "# activation = relu\n",
        "# Output activation = softmax\n",
        "def MyModel_Improved():\n",
        "  model = Sequential()\n",
        "  model.add(Conv2D(64, kernel_size=2, activation='relu'))\n",
        "  model.add(MaxPooling2D(pool_size=(2, 2)))\n",
        "  model.add(Dropout(0.1, noise_shape = None, seed = None))\n",
        "  model.add(keras.layers.Flatten())\n",
        "  model.add(Dense(10, activation='softmax'))\n",
        "  return model"
      ]
    },
    {
      "cell_type": "code",
      "execution_count": null,
      "metadata": {
        "id": "0b9r-VdopS_q",
        "colab": {
          "base_uri": "https://localhost:8080/"
        },
        "outputId": "78428659-6259-4b0e-f982-44366bba1239"
      },
      "outputs": [
        {
          "output_type": "stream",
          "name": "stdout",
          "text": [
            "1875/1875 [==============================] - 48s 25ms/step - loss: 0.4455 - accuracy: 0.8427\n",
            "Epoch 1/2\n",
            "1875/1875 [==============================] - 46s 24ms/step - loss: 0.4445 - accuracy: 0.8431\n",
            "Epoch 2/2\n",
            "1875/1875 [==============================] - 46s 25ms/step - loss: 0.3214 - accuracy: 0.8863\n",
            "Epoch 1/3\n",
            "1875/1875 [==============================] - 46s 24ms/step - loss: 0.4383 - accuracy: 0.8473\n",
            "Epoch 2/3\n",
            "1875/1875 [==============================] - 47s 25ms/step - loss: 0.3174 - accuracy: 0.8885\n",
            "Epoch 3/3\n",
            "1875/1875 [==============================] - 47s 25ms/step - loss: 0.2882 - accuracy: 0.8997\n",
            "Epoch 1/4\n",
            "1875/1875 [==============================] - 47s 25ms/step - loss: 0.4505 - accuracy: 0.8421\n",
            "Epoch 2/4\n",
            "1875/1875 [==============================] - 47s 25ms/step - loss: 0.3238 - accuracy: 0.8855\n",
            "Epoch 3/4\n",
            "1875/1875 [==============================] - 45s 24ms/step - loss: 0.2918 - accuracy: 0.8956\n",
            "Epoch 4/4\n",
            "1875/1875 [==============================] - 45s 24ms/step - loss: 0.2728 - accuracy: 0.9024\n",
            "Epoch 1/5\n",
            "1875/1875 [==============================] - 48s 25ms/step - loss: 0.4417 - accuracy: 0.8450\n",
            "Epoch 2/5\n",
            "1875/1875 [==============================] - 48s 26ms/step - loss: 0.3208 - accuracy: 0.8867\n",
            "Epoch 3/5\n",
            "1875/1875 [==============================] - 45s 24ms/step - loss: 0.2910 - accuracy: 0.8978\n",
            "Epoch 4/5\n",
            "1875/1875 [==============================] - 46s 24ms/step - loss: 0.2720 - accuracy: 0.9029\n",
            "Epoch 5/5\n",
            "1875/1875 [==============================] - 44s 24ms/step - loss: 0.2582 - accuracy: 0.9075\n",
            "Epoch 1/6\n",
            "1875/1875 [==============================] - 47s 25ms/step - loss: 0.4407 - accuracy: 0.8448\n",
            "Epoch 2/6\n",
            "1875/1875 [==============================] - 46s 25ms/step - loss: 0.3220 - accuracy: 0.8858\n",
            "Epoch 3/6\n",
            "1875/1875 [==============================] - 47s 25ms/step - loss: 0.2934 - accuracy: 0.8957\n",
            "Epoch 4/6\n",
            "1875/1875 [==============================] - 45s 24ms/step - loss: 0.2735 - accuracy: 0.9031\n",
            "Epoch 5/6\n",
            "1875/1875 [==============================] - 46s 24ms/step - loss: 0.2586 - accuracy: 0.9078\n",
            "Epoch 6/6\n",
            "1875/1875 [==============================] - 45s 24ms/step - loss: 0.2454 - accuracy: 0.9124\n",
            "Epoch 1/7\n",
            "1875/1875 [==============================] - 46s 24ms/step - loss: 0.4383 - accuracy: 0.8456\n",
            "Epoch 2/7\n",
            "1875/1875 [==============================] - 46s 25ms/step - loss: 0.3196 - accuracy: 0.8863\n",
            "Epoch 3/7\n",
            "1875/1875 [==============================] - 47s 25ms/step - loss: 0.2888 - accuracy: 0.8967\n",
            "Epoch 4/7\n",
            "1875/1875 [==============================] - 46s 24ms/step - loss: 0.2705 - accuracy: 0.9036\n",
            "Epoch 5/7\n",
            "1875/1875 [==============================] - 45s 24ms/step - loss: 0.2551 - accuracy: 0.9087\n",
            "Epoch 6/7\n",
            "1875/1875 [==============================] - 44s 24ms/step - loss: 0.2443 - accuracy: 0.9121\n",
            "Epoch 7/7\n",
            "1875/1875 [==============================] - 44s 23ms/step - loss: 0.2324 - accuracy: 0.9160\n",
            "Epoch 1/8\n",
            "1875/1875 [==============================] - 47s 25ms/step - loss: 0.4384 - accuracy: 0.8461\n",
            "Epoch 2/8\n",
            "1875/1875 [==============================] - 46s 25ms/step - loss: 0.3156 - accuracy: 0.8884\n",
            "Epoch 3/8\n",
            "1875/1875 [==============================] - 47s 25ms/step - loss: 0.2879 - accuracy: 0.8983\n",
            "Epoch 4/8\n",
            "1875/1875 [==============================] - 47s 25ms/step - loss: 0.2678 - accuracy: 0.9043\n",
            "Epoch 5/8\n",
            "1875/1875 [==============================] - 45s 24ms/step - loss: 0.2535 - accuracy: 0.9091\n",
            "Epoch 6/8\n",
            "1875/1875 [==============================] - 44s 23ms/step - loss: 0.2417 - accuracy: 0.9130\n",
            "Epoch 7/8\n",
            "1875/1875 [==============================] - 43s 23ms/step - loss: 0.2325 - accuracy: 0.9164\n",
            "Epoch 8/8\n",
            "1875/1875 [==============================] - 44s 23ms/step - loss: 0.2218 - accuracy: 0.9200\n",
            "Epoch 1/9\n",
            "1875/1875 [==============================] - 46s 24ms/step - loss: 0.4339 - accuracy: 0.8477\n",
            "Epoch 2/9\n",
            "1875/1875 [==============================] - 46s 25ms/step - loss: 0.3145 - accuracy: 0.8884\n",
            "Epoch 3/9\n",
            "1875/1875 [==============================] - 45s 24ms/step - loss: 0.2870 - accuracy: 0.8972\n",
            "Epoch 4/9\n",
            "1875/1875 [==============================] - 44s 24ms/step - loss: 0.2685 - accuracy: 0.9050\n",
            "Epoch 5/9\n",
            "1875/1875 [==============================] - 44s 24ms/step - loss: 0.2551 - accuracy: 0.9081\n",
            "Epoch 6/9\n",
            "1875/1875 [==============================] - 45s 24ms/step - loss: 0.2438 - accuracy: 0.9112\n",
            "Epoch 7/9\n",
            "1875/1875 [==============================] - 45s 24ms/step - loss: 0.2341 - accuracy: 0.9147\n",
            "Epoch 8/9\n",
            "1875/1875 [==============================] - 45s 24ms/step - loss: 0.2231 - accuracy: 0.9196\n",
            "Epoch 9/9\n",
            "1875/1875 [==============================] - 44s 24ms/step - loss: 0.2141 - accuracy: 0.9215\n",
            "Epoch 1/10\n",
            "1875/1875 [==============================] - 46s 24ms/step - loss: 0.4473 - accuracy: 0.8430\n",
            "Epoch 2/10\n",
            "1875/1875 [==============================] - 45s 24ms/step - loss: 0.3248 - accuracy: 0.8853\n",
            "Epoch 3/10\n",
            "1875/1875 [==============================] - 45s 24ms/step - loss: 0.2894 - accuracy: 0.8967\n",
            "Epoch 4/10\n",
            "1875/1875 [==============================] - 45s 24ms/step - loss: 0.2696 - accuracy: 0.9042\n",
            "Epoch 5/10\n",
            "1875/1875 [==============================] - 45s 24ms/step - loss: 0.2554 - accuracy: 0.9086\n",
            "Epoch 6/10\n",
            "1875/1875 [==============================] - 45s 24ms/step - loss: 0.2431 - accuracy: 0.9130\n",
            "Epoch 7/10\n",
            "1875/1875 [==============================] - 45s 24ms/step - loss: 0.2325 - accuracy: 0.9166\n",
            "Epoch 8/10\n",
            "1875/1875 [==============================] - 45s 24ms/step - loss: 0.2229 - accuracy: 0.9197\n",
            "Epoch 9/10\n",
            "1875/1875 [==============================] - 45s 24ms/step - loss: 0.2152 - accuracy: 0.9219\n",
            "Epoch 10/10\n",
            "1875/1875 [==============================] - 45s 24ms/step - loss: 0.2067 - accuracy: 0.9251\n"
          ]
        }
      ],
      "source": [
        "loss_Improved=[]\n",
        "train_acc=[]\n",
        "test_acc=[]\n",
        "for epoch in range(1,11):\n",
        "  model3_Improved=MyModel_Improved()\n",
        "  model3_Improved.compile(optimizer='adam', loss=cross_entropy, metrics=['accuracy'])\n",
        "  history3_Improved = model3_Improved.fit(trainX, trainy, epochs=epoch)\n",
        "  loss3_Improved=history3_Improved.history['loss']\n",
        "  train_acc3=history3_Improved.history['accuracy']\n",
        "  test3=model3_Improved.predict(testX)\n",
        "  Er3=((testy-test3)**2)/2\n",
        "  Accuracy_test3=1-Er3.mean() \n",
        "  loss_Improved.append(loss3_Improved[-1])\n",
        "  train_acc.append(train_acc3[-1])\n",
        "  test_acc.append(Accuracy_test3)"
      ]
    },
    {
      "cell_type": "code",
      "source": [
        "print(loss_Improved)"
      ],
      "metadata": {
        "colab": {
          "base_uri": "https://localhost:8080/"
        },
        "id": "cFASinn4Gxwd",
        "outputId": "30c70e30-66a8-4ad7-d5ac-a54c989ce95c"
      },
      "execution_count": null,
      "outputs": [
        {
          "output_type": "stream",
          "name": "stdout",
          "text": [
            "[0.4455451965332031, 0.32138776779174805, 0.2881535291671753, 0.27283966541290283, 0.2581689655780792, 0.24543319642543793, 0.23241287469863892, 0.2217513769865036, 0.21413463354110718, 0.20671629905700684]\n"
          ]
        }
      ]
    },
    {
      "cell_type": "code",
      "source": [
        "print(train_acc)"
      ],
      "metadata": {
        "colab": {
          "base_uri": "https://localhost:8080/"
        },
        "id": "Jpsr4X3bKQMJ",
        "outputId": "8e1c7b2a-1e8a-4533-fb72-fc16a15a8b7f"
      },
      "execution_count": null,
      "outputs": [
        {
          "output_type": "stream",
          "name": "stdout",
          "text": [
            "[0.8427333235740662, 0.8862833380699158, 0.8996666669845581, 0.9024166464805603, 0.9074666500091553, 0.9123666882514954, 0.9160000085830688, 0.9200000166893005, 0.9215499758720398, 0.925083339214325]\n"
          ]
        }
      ]
    },
    {
      "cell_type": "code",
      "source": [
        "print(test_acc)"
      ],
      "metadata": {
        "colab": {
          "base_uri": "https://localhost:8080/"
        },
        "id": "_CGCT1QQrL7j",
        "outputId": "c7f45db3-0bf9-4520-8723-81fafe676ecd"
      },
      "execution_count": null,
      "outputs": [
        {
          "output_type": "stream",
          "name": "stdout",
          "text": [
            "[0.9907382829114795, 0.99103051610291, 0.9914755374193192, 0.9919907692819834, 0.9923520088195801, 0.9924926580861211, 0.9923090287484229, 0.9924476128071547, 0.9927420006133616, 0.992699128575623]\n"
          ]
        }
      ]
    },
    {
      "cell_type": "code",
      "source": [
        "epochs=[1,2,3,4,5,6,7,8,9,10]\n",
        "plt.plot(epochs, loss_Improved, color ='red',label='Loss')\n",
        "plt.plot(epochs, train_acc, color ='blue',label='Train Accuracy')\n",
        "plt.plot(epochs, test_acc, color ='green',label='Test Accuracy')\n",
        "plt.legend()\n",
        "plt.xlabel('Epochs')\n",
        "plt.ylabel('Parameters')\n",
        "plt.title('Epoch Vs Parameters')\n",
        "plt.show()"
      ],
      "metadata": {
        "colab": {
          "base_uri": "https://localhost:8080/",
          "height": 295
        },
        "id": "_VMeolP1i0LM",
        "outputId": "2c2a4328-2efc-41b0-8b5c-74fe12146aec"
      },
      "execution_count": null,
      "outputs": [
        {
          "output_type": "display_data",
          "data": {
            "text/plain": [
              "<Figure size 432x288 with 1 Axes>"
            ],
            "image/png": "[encoded data removed]"
          },
          "metadata": {
            "needs_background": "light"
          }
        }
      ]
    },
    {
      "cell_type": "code",
      "source": [
        "# Hyperparameters :\n",
        "# Two Conv2D layer with 64 filters\n",
        "# Dropout rate = 0.3\n",
        "# activation = relu\n",
        "# Output activation = softmax\n",
        "def MyModel_Improved():\n",
        "  model = Sequential()\n",
        "  model.add(Conv2D(64, kernel_size=2, activation='relu'))\n",
        "  model.add(MaxPooling2D(pool_size=(2, 2)))\n",
        "  model.add(Conv2D(64, kernel_size=2, activation='relu'))\n",
        "  model.add(MaxPooling2D(pool_size=(2, 2)))\n",
        "  model.add(Dropout(0.3, noise_shape = None, seed = None))\n",
        "  model.add(keras.layers.Flatten())\n",
        "  model.add(Dense(10, activation='softmax'))\n",
        "  return model"
      ],
      "metadata": {
        "id": "sl71myvM1_jA"
      },
      "execution_count": null,
      "outputs": []
    },
    {
      "cell_type": "code",
      "source": [
        "loss_Improved=[]\n",
        "train_acc=[]\n",
        "test_acc=[]\n",
        "for epoch in range(1,11):\n",
        "  model3_Improved=MyModel_Improved()\n",
        "  model3_Improved.compile(optimizer='adam', loss=cross_entropy, metrics=['accuracy'])\n",
        "  history3_Improved = model3_Improved.fit(trainX, trainy, epochs=epoch)\n",
        "  loss3_Improved=history3_Improved.history['loss']\n",
        "  train_acc3=history3_Improved.history['accuracy']\n",
        "  test3=model3_Improved.predict(testX)\n",
        "  Er3=((testy-test3)**2)/2\n",
        "  Accuracy_test3=1-Er3.mean() \n",
        "  loss_Improved.append(loss3_Improved[-1])\n",
        "  train_acc.append(train_acc3[-1])\n",
        "  test_acc.append(Accuracy_test3)"
      ],
      "metadata": {
        "colab": {
          "base_uri": "https://localhost:8080/"
        },
        "id": "iV8Hx92O2HgM",
        "outputId": "de5ce075-82d0-4e13-c44c-d1cd70a4e9d2"
      },
      "execution_count": null,
      "outputs": [
        {
          "output_type": "stream",
          "name": "stdout",
          "text": [
            "1875/1875 [==============================] - 68s 36ms/step - loss: 0.4831 - accuracy: 0.8267\n",
            "Epoch 1/2\n",
            "1875/1875 [==============================] - 69s 36ms/step - loss: 0.4933 - accuracy: 0.8238\n",
            "Epoch 2/2\n",
            "1875/1875 [==============================] - 69s 37ms/step - loss: 0.3513 - accuracy: 0.8743\n",
            "Epoch 1/3\n",
            "1875/1875 [==============================] - 68s 36ms/step - loss: 0.5015 - accuracy: 0.8206\n",
            "Epoch 2/3\n",
            "1875/1875 [==============================] - 66s 35ms/step - loss: 0.3595 - accuracy: 0.8720\n",
            "Epoch 3/3\n",
            "1875/1875 [==============================] - 67s 35ms/step - loss: 0.3229 - accuracy: 0.8840\n",
            "Epoch 1/4\n",
            "1875/1875 [==============================] - 66s 35ms/step - loss: 0.4924 - accuracy: 0.8231\n",
            "Epoch 2/4\n",
            "1875/1875 [==============================] - 66s 35ms/step - loss: 0.3554 - accuracy: 0.8719\n",
            "Epoch 3/4\n",
            "1875/1875 [==============================] - 66s 35ms/step - loss: 0.3222 - accuracy: 0.8834\n",
            "Epoch 4/4\n",
            "1875/1875 [==============================] - 66s 35ms/step - loss: 0.2982 - accuracy: 0.8916\n",
            "Epoch 1/5\n",
            "1875/1875 [==============================] - 67s 36ms/step - loss: 0.4899 - accuracy: 0.8249\n",
            "Epoch 2/5\n",
            "1875/1875 [==============================] - 66s 35ms/step - loss: 0.3556 - accuracy: 0.8719\n",
            "Epoch 3/5\n",
            "1875/1875 [==============================] - 66s 35ms/step - loss: 0.3213 - accuracy: 0.8839\n",
            "Epoch 4/5\n",
            "1875/1875 [==============================] - 66s 35ms/step - loss: 0.2964 - accuracy: 0.8922\n",
            "Epoch 5/5\n",
            "1875/1875 [==============================] - 65s 35ms/step - loss: 0.2773 - accuracy: 0.8992\n",
            "Epoch 1/6\n",
            "1875/1875 [==============================] - 66s 35ms/step - loss: 0.4939 - accuracy: 0.8214\n",
            "Epoch 2/6\n",
            "1875/1875 [==============================] - 65s 35ms/step - loss: 0.3531 - accuracy: 0.8741\n",
            "Epoch 3/6\n",
            "1875/1875 [==============================] - 65s 35ms/step - loss: 0.3210 - accuracy: 0.8850\n",
            "Epoch 4/6\n",
            "1875/1875 [==============================] - 65s 35ms/step - loss: 0.2939 - accuracy: 0.8931\n",
            "Epoch 5/6\n",
            "1875/1875 [==============================] - 65s 35ms/step - loss: 0.2772 - accuracy: 0.8995\n",
            "Epoch 6/6\n",
            "1875/1875 [==============================] - 64s 34ms/step - loss: 0.2632 - accuracy: 0.9043\n",
            "Epoch 1/7\n",
            "1875/1875 [==============================] - 65s 35ms/step - loss: 0.4930 - accuracy: 0.8219\n",
            "Epoch 2/7\n",
            "1875/1875 [==============================] - 65s 35ms/step - loss: 0.3597 - accuracy: 0.8707\n",
            "Epoch 3/7\n",
            "1875/1875 [==============================] - 64s 34ms/step - loss: 0.3239 - accuracy: 0.8828\n",
            "Epoch 4/7\n",
            "1875/1875 [==============================] - 64s 34ms/step - loss: 0.2987 - accuracy: 0.8921\n",
            "Epoch 5/7\n",
            "1875/1875 [==============================] - 65s 34ms/step - loss: 0.2815 - accuracy: 0.8971\n",
            "Epoch 6/7\n",
            "1875/1875 [==============================] - 65s 35ms/step - loss: 0.2684 - accuracy: 0.9033\n",
            "Epoch 7/7\n",
            "1875/1875 [==============================] - 63s 34ms/step - loss: 0.2543 - accuracy: 0.9072\n",
            "Epoch 1/8\n",
            "1875/1875 [==============================] - 66s 35ms/step - loss: 0.4894 - accuracy: 0.8229\n",
            "Epoch 2/8\n",
            "1875/1875 [==============================] - 66s 35ms/step - loss: 0.3520 - accuracy: 0.8728\n",
            "Epoch 3/8\n",
            "1875/1875 [==============================] - 66s 35ms/step - loss: 0.3166 - accuracy: 0.8852\n",
            "Epoch 4/8\n",
            "1875/1875 [==============================] - 66s 35ms/step - loss: 0.2951 - accuracy: 0.8933\n",
            "Epoch 5/8\n",
            "1875/1875 [==============================] - 66s 35ms/step - loss: 0.2733 - accuracy: 0.8999\n",
            "Epoch 6/8\n",
            "1875/1875 [==============================] - 66s 35ms/step - loss: 0.2617 - accuracy: 0.9054\n",
            "Epoch 7/8\n",
            "1875/1875 [==============================] - 66s 35ms/step - loss: 0.2479 - accuracy: 0.9099\n",
            "Epoch 8/8\n",
            "1875/1875 [==============================] - 66s 35ms/step - loss: 0.2414 - accuracy: 0.9116\n",
            "Epoch 1/9\n",
            "1875/1875 [==============================] - 67s 35ms/step - loss: 0.4960 - accuracy: 0.8202\n",
            "Epoch 2/9\n",
            "1875/1875 [==============================] - 66s 35ms/step - loss: 0.3581 - accuracy: 0.8716\n",
            "Epoch 3/9\n",
            "1875/1875 [==============================] - 66s 35ms/step - loss: 0.3249 - accuracy: 0.8826\n",
            "Epoch 4/9\n",
            "1875/1875 [==============================] - 66s 35ms/step - loss: 0.3041 - accuracy: 0.8895\n",
            "Epoch 5/9\n",
            "1875/1875 [==============================] - 65s 35ms/step - loss: 0.2850 - accuracy: 0.8965\n",
            "Epoch 6/9\n",
            "1875/1875 [==============================] - 66s 35ms/step - loss: 0.2688 - accuracy: 0.9023\n",
            "Epoch 7/9\n",
            "1875/1875 [==============================] - 65s 35ms/step - loss: 0.2586 - accuracy: 0.9052\n",
            "Epoch 8/9\n",
            "1875/1875 [==============================] - 66s 35ms/step - loss: 0.2489 - accuracy: 0.9087\n",
            "Epoch 9/9\n",
            "1875/1875 [==============================] - 65s 35ms/step - loss: 0.2412 - accuracy: 0.9102\n",
            "Epoch 1/10\n",
            "1875/1875 [==============================] - 67s 36ms/step - loss: 0.4873 - accuracy: 0.8256\n",
            "Epoch 2/10\n",
            "1875/1875 [==============================] - 67s 36ms/step - loss: 0.3521 - accuracy: 0.8734\n",
            "Epoch 3/10\n",
            "1875/1875 [==============================] - 66s 35ms/step - loss: 0.3191 - accuracy: 0.8843\n",
            "Epoch 4/10\n",
            "1875/1875 [==============================] - 66s 35ms/step - loss: 0.2940 - accuracy: 0.8946\n",
            "Epoch 5/10\n",
            "1875/1875 [==============================] - 66s 35ms/step - loss: 0.2767 - accuracy: 0.8997\n",
            "Epoch 6/10\n",
            "1875/1875 [==============================] - 66s 35ms/step - loss: 0.2631 - accuracy: 0.9044\n",
            "Epoch 7/10\n",
            "1875/1875 [==============================] - 66s 35ms/step - loss: 0.2497 - accuracy: 0.9092\n",
            "Epoch 8/10\n",
            "1875/1875 [==============================] - 65s 35ms/step - loss: 0.2434 - accuracy: 0.9099\n",
            "Epoch 9/10\n",
            "1875/1875 [==============================] - 65s 35ms/step - loss: 0.2340 - accuracy: 0.9138\n",
            "Epoch 10/10\n",
            "1875/1875 [==============================] - 65s 35ms/step - loss: 0.2268 - accuracy: 0.9166\n"
          ]
        }
      ]
    },
    {
      "cell_type": "code",
      "source": [
        "print(loss_Improved)"
      ],
      "metadata": {
        "id": "L5ZrVSjPtv4d"
      },
      "execution_count": null,
      "outputs": []
    },
    {
      "cell_type": "code",
      "source": [
        "print(train_acc)"
      ],
      "metadata": {
        "id": "TxQKWP6XtzKt"
      },
      "execution_count": null,
      "outputs": []
    },
    {
      "cell_type": "code",
      "source": [
        "print(test_acc)"
      ],
      "metadata": {
        "id": "9WhW9kqst27t"
      },
      "execution_count": null,
      "outputs": []
    },
    {
      "cell_type": "code",
      "source": [
        "epochs=[1,2,3,4,5,6,7,8,9,10]\n",
        "plt.plot(epochs, loss_Improved, color ='red',label='Loss')\n",
        "plt.plot(epochs, train_acc, color ='blue',label='Train Accuracy')\n",
        "plt.plot(epochs, test_acc, color ='green',label='Test Accuracy')\n",
        "plt.legend()\n",
        "plt.xlabel('Epochs')\n",
        "plt.ylabel('Parameters')\n",
        "plt.title('Epoch Vs Parameters')\n",
        "plt.show()"
      ],
      "metadata": {
        "colab": {
          "base_uri": "https://localhost:8080/",
          "height": 295
        },
        "id": "G3UAtpOj2JEI",
        "outputId": "69362793-88d1-4899-9535-4b54fd29c1e2"
      },
      "execution_count": null,
      "outputs": [
        {
          "output_type": "display_data",
          "data": {
            "text/plain": [
              "<Figure size 432x288 with 1 Axes>"
            ],
            "image/png": "[encoded data removed]"
          },
          "metadata": {
            "needs_background": "light"
          }
        }
      ]
    },
    {
      "cell_type": "markdown",
      "source": [
        "**Reportings**\n",
        "\n",
        "When instead of a Conv layer of 32 filters and another of 64 filters and then a single Conv layer of 64 filters with dropout rate of 0.1 is taken then the accuracy of ADAM optimizer has increased most of the time.\n",
        "\n",
        "When we used two layers of Conv with 64 filters each with dropout rate of 0.3 the accuracy of adam optimizer has decreased."
      ],
      "metadata": {
        "id": "2jW-jCFfoW8g"
      }
    }
  ],
  "metadata": {
    "colab": {
      "collapsed_sections": [],
      "name": "Multi-class classification on Fashion-MNIST using a convolutional neural network..ipynb",
      "provenance": []
    },
    "kernelspec": {
      "display_name": "Python 3",
      "name": "python3"
    },
    "language_info": {
      "name": "python"
    }
  },
  "nbformat": 4,
  "nbformat_minor": 0
}