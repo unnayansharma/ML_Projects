{
  "nbformat": 4,
  "nbformat_minor": 0,
  "metadata": {
    "colab": {
      "name": "ML3_(5).ipynb",
      "provenance": [],
      "collapsed_sections": []
    },
    "kernelspec": {
      "name": "python3",
      "display_name": "Python 3"
    },
    "language_info": {
      "name": "python"
    }
  },
  "cells": [
    {
      "cell_type": "markdown",
      "source": [
        "We will be understanding the concept of linear regression along with the regularization parameter on the dataset given below which has multiple attributes. Medical Dataset (https://www.kaggle.com/sudhirnl7/linear-regression-tutorial/data): The medical cost dataset comprises of independent attributes like age, sex, BMI (body mass index), children, smoker,\n",
        "and region. The charge/cost is a dependent feature. Our goal is to predict the individual medical costs billed by the health insurance."
      ],
      "metadata": {
        "id": "b2brawMmU8HQ"
      }
    },
    {
      "cell_type": "code",
      "execution_count": 1,
      "metadata": {
        "colab": {
          "resources": {
            "http://localhost:8080/nbextensions/google.colab/files.js": {
              "data": "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",
              "ok": true,
              "headers": [
                [
                  "content-type",
                  "application/javascript"
                ]
              ],
              "status": 200,
              "status_text": ""
            }
          },
          "base_uri": "https://localhost:8080/",
          "height": 74
        },
        "id": "RB5BvOZwsV9X",
        "outputId": "2f813c77-f2a4-4378-a5b9-76a6f59c482b"
      },
      "outputs": [
        {
          "output_type": "display_data",
          "data": {
            "text/html": [
              "\n",
              "     <input type=\"file\" id=\"files-9e9d42e7-f34f-4a39-8c49-7970fbe9ebd3\" name=\"files[]\" multiple disabled\n",
              "        style=\"border:none\" />\n",
              "     <output id=\"result-9e9d42e7-f34f-4a39-8c49-7970fbe9ebd3\">\n",
              "      Upload widget is only available when the cell has been executed in the\n",
              "      current browser session. Please rerun this cell to enable.\n",
              "      </output>\n",
              "      <script src=\"/nbextensions/google.colab/files.js\"></script> "
            ],
            "text/plain": [
              "<IPython.core.display.HTML object>"
            ]
          },
          "metadata": {}
        },
        {
          "output_type": "stream",
          "name": "stdout",
          "text": [
            "Saving insurance.csv to insurance.csv\n"
          ]
        }
      ],
      "source": [
        "import pandas as pd\n",
        "from google.colab import files\n",
        "uploaded=files.upload()"
      ]
    },
    {
      "cell_type": "code",
      "source": [
        "import io\n",
        "df=pd.read_csv(io.BytesIO(uploaded['insurance.csv']))\n",
        "print(df.head())"
      ],
      "metadata": {
        "colab": {
          "base_uri": "https://localhost:8080/"
        },
        "id": "9tsPeN0ft4tg",
        "outputId": "dba7164d-45ad-4856-f413-9a219aef4492"
      },
      "execution_count": 2,
      "outputs": [
        {
          "output_type": "stream",
          "name": "stdout",
          "text": [
            "   age     sex     bmi  children smoker     region      charges\n",
            "0   19  female  27.900         0    yes  southwest  16884.92400\n",
            "1   18    male  33.770         1     no  southeast   1725.55230\n",
            "2   28    male  33.000         3     no  southeast   4449.46200\n",
            "3   33    male  22.705         0     no  northwest  21984.47061\n",
            "4   32    male  28.880         0     no  northwest   3866.85520\n"
          ]
        }
      ]
    },
    {
      "cell_type": "markdown",
      "source": [
        "1. Feature Normalization: As discussed in the class, we first have to standardize all the features by subtracting with the mean and dividing by the standard deviation. Verify your technique by computing the mean and variance of the transformed data and check if the mean is 0 and variance is 1."
      ],
      "metadata": {
        "id": "FhmAy6mVuqLw"
      }
    },
    {
      "cell_type": "code",
      "source": [
        "from sklearn import preprocessing\n",
        "label_encoder=preprocessing.LabelEncoder()\n",
        "df['sex']=label_encoder.fit_transform(df['sex'])\n",
        "df['smoker']=label_encoder.fit_transform(df['smoker'])\n",
        "df['region']=label_encoder.fit_transform(df['region'])\n",
        "print(df)"
      ],
      "metadata": {
        "colab": {
          "base_uri": "https://localhost:8080/"
        },
        "id": "M_KF--POZwgC",
        "outputId": "cc347769-2c14-4b1b-c5fa-747785d58729"
      },
      "execution_count": 3,
      "outputs": [
        {
          "output_type": "stream",
          "name": "stdout",
          "text": [
            "      age  sex     bmi  children  smoker  region      charges\n",
            "0      19    0  27.900         0       1       3  16884.92400\n",
            "1      18    1  33.770         1       0       2   1725.55230\n",
            "2      28    1  33.000         3       0       2   4449.46200\n",
            "3      33    1  22.705         0       0       1  21984.47061\n",
            "4      32    1  28.880         0       0       1   3866.85520\n",
            "...   ...  ...     ...       ...     ...     ...          ...\n",
            "1333   50    1  30.970         3       0       1  10600.54830\n",
            "1334   18    0  31.920         0       0       0   2205.98080\n",
            "1335   18    0  36.850         0       0       2   1629.83350\n",
            "1336   21    0  25.800         0       0       3   2007.94500\n",
            "1337   61    0  29.070         0       1       1  29141.36030\n",
            "\n",
            "[1338 rows x 7 columns]\n"
          ]
        }
      ]
    },
    {
      "cell_type": "code",
      "source": [
        "import numpy as np\n",
        "cols=['age','sex','bmi','children','smoker','region','charges']\n",
        "for i in cols:\n",
        "  mean_data=np.mean(df[i])\n",
        "  std_data=np.std(df[i])\n",
        "  print(\"mean of\",i,\"=\",mean_data)\n",
        "  print(\"standard deviation of\",i,\"=\",std_data)\n",
        "  print()\n",
        "  data=[]\n",
        "  for j in df[i]:\n",
        "    data.append((j-mean_data)/std_data)\n",
        "  df[i]=data\n",
        "#print(df.head())"
      ],
      "metadata": {
        "colab": {
          "base_uri": "https://localhost:8080/"
        },
        "id": "SbT0TQi_uOcu",
        "outputId": "b186dacb-70ef-4410-bce9-f43a94be59fb"
      },
      "execution_count": 4,
      "outputs": [
        {
          "output_type": "stream",
          "name": "stdout",
          "text": [
            "mean of age = 39.20702541106129\n",
            "standard deviation of age = 14.04470903895454\n",
            "\n",
            "mean of sex = 0.5052316890881914\n",
            "standard deviation of sex = 0.4999726286800901\n",
            "\n",
            "mean of bmi = 30.663396860986538\n",
            "standard deviation of bmi = 6.095907641589428\n",
            "\n",
            "mean of children = 1.0949177877429\n",
            "standard deviation of children = 1.2050421724928453\n",
            "\n",
            "mean of smoker = 0.20478325859491778\n",
            "standard deviation of smoker = 0.40354315208434366\n",
            "\n",
            "mean of region = 1.515695067264574\n",
            "standard deviation of region = 1.1044719546667299\n",
            "\n",
            "mean of charges = 13270.422265141257\n",
            "standard deviation of charges = 12105.484975561605\n",
            "\n"
          ]
        }
      ]
    },
    {
      "cell_type": "code",
      "source": [
        "#verification of mean and standard deviation\n",
        "#print(df)\n",
        "for i in cols:\n",
        "  mean_data=np.mean(df[i])\n",
        "  std_data=np.std(df[i])\n",
        "  print(\"mean of\",i,\"=\",mean_data)\n",
        "  print(\"standard deviation of\",i,\"=\",std_data)\n",
        "  print()"
      ],
      "metadata": {
        "colab": {
          "base_uri": "https://localhost:8080/"
        },
        "id": "TRJZvhwTzN-9",
        "outputId": "969b829e-b143-449a-f6fc-0f2baf42325f"
      },
      "execution_count": 219,
      "outputs": [
        {
          "output_type": "stream",
          "name": "stdout",
          "text": [
            "mean of age = -1.541699835391286e-16\n",
            "standard deviation of age = 1.0\n",
            "\n",
            "mean of sex = -2.688432436312038e-16\n",
            "standard deviation of sex = 1.000000000000011\n",
            "\n",
            "mean of bmi = 1.518424980502844e-15\n",
            "standard deviation of bmi = 1.0000000000000004\n",
            "\n",
            "mean of children = 1.045501503010237e-17\n",
            "standard deviation of children = 1.0000000000000016\n",
            "\n",
            "mean of smoker = -3.787038777570414e-16\n",
            "standard deviation of smoker = 0.9999999999999856\n",
            "\n",
            "mean of region = 6.318645988430917e-17\n",
            "standard deviation of region = 0.9999999999999862\n",
            "\n",
            "mean of charges = -6.920224234210617e-17\n",
            "standard deviation of charges = 1.0000000000000004\n",
            "\n"
          ]
        }
      ]
    },
    {
      "cell_type": "code",
      "source": [
        "test_size=0.2\n",
        "X=df.drop(columns=['charges']).copy()\n",
        "y=df['charges']\n",
        "index_test=int(len(df)*test_size)\n",
        "X_test=X[0:index_test]\n",
        "y_test=y[0:index_test]\n",
        "\n",
        "df_rem=df[index_test:]\n",
        "print(X_test.shape), print(y_test.shape)\n",
        "#print(df_rem)"
      ],
      "metadata": {
        "colab": {
          "base_uri": "https://localhost:8080/"
        },
        "id": "d6Gjix51HFPD",
        "outputId": "bc2da182-186f-4bd0-8096-3885946b9d92"
      },
      "execution_count": 358,
      "outputs": [
        {
          "output_type": "stream",
          "name": "stdout",
          "text": [
            "(267, 6)\n",
            "(267,)\n"
          ]
        },
        {
          "output_type": "execute_result",
          "data": {
            "text/plain": [
              "(None, None)"
            ]
          },
          "metadata": {},
          "execution_count": 358
        }
      ]
    },
    {
      "cell_type": "markdown",
      "source": [
        "3. Ridge-Regression: Here, implement your own function ridgereg(X, Y, λ) that calcu-lates the linear least square solution with the ridge regression penalty parameter λ and return regression weights. Use gradient descent technique to find these weights. Imple-ment predridgereg(X, weights) that returns Y given the input X with learnt weights."
      ],
      "metadata": {
        "id": "7hWJSmsJVbq7"
      }
    },
    {
      "cell_type": "code",
      "source": [
        "def predridgereg(X,w):\n",
        "  y_pred=np.dot(X,w)\n",
        "  return y_pred"
      ],
      "metadata": {
        "id": "NInFTy0arMhe"
      },
      "execution_count": 359,
      "outputs": []
    },
    {
      "cell_type": "code",
      "source": [
        "def ridgereg(X,y,l,w):\n",
        "  lr=0.001\n",
        "  iterations=500\n",
        "  m=len(y)\n",
        "  X=X.reshape(964,6)\n",
        "  y=y.reshape(964,1)\n",
        "  for it in range(iterations):\n",
        "    prediction=np.dot(X,w)\n",
        "    prediction=prediction.reshape(964,1)\n",
        "    w=w-(np.multiply(lr,(np.dot(np.transpose(X),(np.subtract(prediction,y))))) + np.multiply(l,w))/m\n",
        "  return w"
      ],
      "metadata": {
        "id": "cF9pjBbDjHe3"
      },
      "execution_count": 360,
      "outputs": []
    },
    {
      "cell_type": "markdown",
      "source": [
        "2. K−Fold Cross Validation Randomly partition the data into a training, validation, and test set. Fix 20% of the instances into the test set. For the remaining data perform the below experiments with K−fold cross validation. You can take the value of K to be 10."
      ],
      "metadata": {
        "id": "6Cl591pCVTu5"
      }
    },
    {
      "cell_type": "code",
      "source": [
        "from random import randrange\n",
        "def k_fold_cv(dataframe,folds,l):\n",
        "  fold_size=int(len(dataframe)/folds)\n",
        "  copy_dataframe=dataframe.copy()\n",
        "  train_data=list()\n",
        "  rmse=[]\n",
        "  test_error=[]\n",
        "  w=np.random.randn(6,1)\n",
        "  for i in range(folds):\n",
        "    validate_data=list()\n",
        "    while (len(validate_data)<fold_size):\n",
        "      index=randrange(len(copy_dataframe))\n",
        "      validate_data.append(copy_dataframe.pop(index))\n",
        "    train_data=copy_dataframe\n",
        "    train_data=pd.DataFrame(train_data,columns=['age','sex','bmi','children','smoker','region','charges'])\n",
        "    validate_data=pd.DataFrame(validate_data,columns=['age','sex','bmi','children','smoker','region','charges'])\n",
        "    copy_dataframe=dataframe.copy()\n",
        "    X_train=train_data.drop(columns=['charges'])\n",
        "    y_train=train_data['charges']\n",
        "    X_validate=validate_data.drop(columns=['charges'])\n",
        "    y_validate=validate_data['charges']\n",
        "    X_train=X_train.to_numpy(dtype='float32')\n",
        "    y_train=y_train.to_numpy(dtype='float32')\n",
        "    X_train=X_train.reshape(964,6)\n",
        "    w=ridgereg(X_train,y_train,l,w) #Finding w\n",
        "    y_pred=predridgereg(X_train,w) #Predicting Values \n",
        "    size=len(y_pred)\n",
        "    mean_square_error=np.sqrt(np.sum(np.square(np.subtract(y_train,y_pred))))/size #Mean Square Error\n",
        "    rmse.append(mean_square_error)\n",
        "  rmse=np.min(rmse)\n",
        "  return rmse,w"
      ],
      "metadata": {
        "id": "qidjjz94IIjd"
      },
      "execution_count": 361,
      "outputs": []
    },
    {
      "cell_type": "code",
      "source": [
        "df_rem=df_rem.values.tolist()\n",
        "l_plot=[]\n",
        "rmse_plot=[]\n",
        "for i in range(0,10):\n",
        "  l=i\n",
        "  l_plot.append(i)\n",
        "  rmse,w=k_fold_cv(df_rem,10,l)\n",
        "  rmse_plot.append(rmse)"
      ],
      "metadata": {
        "id": "O4Wl_sPzx-aC"
      },
      "execution_count": 362,
      "outputs": []
    },
    {
      "cell_type": "markdown",
      "source": [
        "4. Plot the mean square error for each of the dataset obtained from K−fold cross validation with respect to different λ values. Explain your finding and suggest what value of λ will you choose based on the obtained plot."
      ],
      "metadata": {
        "id": "86i_uzXGVj48"
      }
    },
    {
      "cell_type": "code",
      "source": [
        "import matplotlib.pyplot as plt\n",
        "plt.plot(l_plot,rmse_plot,label=\"mean square error\")\n",
        "plt.legend()\n",
        "plt.show"
      ],
      "metadata": {
        "colab": {
          "base_uri": "https://localhost:8080/",
          "height": 282
        },
        "id": "nQ7TemaiyEI4",
        "outputId": "68601907-4b81-4247-b093-4d63438357f0"
      },
      "execution_count": 363,
      "outputs": [
        {
          "output_type": "execute_result",
          "data": {
            "text/plain": [
              "<function matplotlib.pyplot.show>"
            ]
          },
          "metadata": {},
          "execution_count": 363
        },
        {
          "output_type": "display_data",
          "data": {
            "image/png": "[encoded data removed]",
            "text/plain": [
              "<Figure size 432x288 with 1 Axes>"
            ]
          },
          "metadata": {
            "needs_background": "light"
          }
        }
      ]
    },
    {
      "cell_type": "markdown",
      "source": [
        "5. Plot the training error, variance and test error against different values of λ. Explain your finding and suggest what value of λ will you choose based on the obtained plot. Explain your result in the context of bias variance trade off. Does this value coincide with the previous question?"
      ],
      "metadata": {
        "id": "j_bQJ0j3Vp35"
      }
    },
    {
      "cell_type": "code",
      "source": [
        "l_plot=[]\n",
        "train_error_plot=[]\n",
        "test_error_plot=[]\n",
        "variance_plot=[]\n",
        "bias_sq_plot=[]\n",
        "copy_dataframe=df_rem.copy()\n",
        "train_data=list()\n",
        "train_data=copy_dataframe\n",
        "train_data=pd.DataFrame(train_data,columns=['age','sex','bmi','children','smoker','region','charges'])\n",
        "X_train=train_data.drop(columns=['charges'])\n",
        "y_train=train_data['charges']\n",
        "X_train=X_train.to_numpy(dtype='float32')\n",
        "y_train=y_train.to_numpy(dtype='float32')\n",
        "X_train=X_train.reshape(1071,6)\n",
        "X_test=X_test.to_numpy(dtype='float32')\n",
        "y_test=y_test.to_numpy(dtype='float32')\n",
        "X_test=X_test.reshape(267,6)\n",
        "for i in range(0,10):\n",
        "  l=i\n",
        "  l_plot.append(i)\n",
        "  rmse,w=k_fold_cv(df_rem,10,l)\n",
        "  y_pred_train=predridgereg(X_train,w)\n",
        "  size=len(y_pred_train)\n",
        "  train_data_error=np.sqrt(np.sum(np.square(np.subtract(y_train,y_pred_train))))/size #Train Error\n",
        "  train_error_plot.append(train_data_error)\n",
        "  y_pred_test=predridgereg(X_test,w)\n",
        "  size=len(y_pred_test)\n",
        "  test_data_error=np.sqrt(np.sum(np.square(np.subtract(y_test,y_pred_test))))/size #Test Error\n",
        "  test_error_plot.append(test_data_error)\n",
        "  variance=np.mean((np.subtract(y_pred_test,np.mean(y_pred_test)))**2) #Variance\n",
        "  variance_plot.append(variance)\n",
        "  bias_sq=(np.subtract(np.mean(y_pred_test),np.mean(y_test)))**2 #Bias^2\n",
        "  bias_sq_plot.append(bias_sq)"
      ],
      "metadata": {
        "id": "ZVzIPpeouwLc"
      },
      "execution_count": 364,
      "outputs": []
    },
    {
      "cell_type": "code",
      "source": [
        "import matplotlib.pyplot as plt\n",
        "plt.plot(l_plot,train_error_plot,label=\"training error\")\n",
        "plt.plot(l_plot,test_error_plot,label=\"test error\")\n",
        "plt.plot(l_plot,variance_plot,label=\"variance\")\n",
        "plt.plot(l_plot,bias_sq_plot,label=\"Bias Square\")\n",
        "plt.legend()\n",
        "plt.show"
      ],
      "metadata": {
        "id": "wyKMb9xQuywd",
        "colab": {
          "base_uri": "https://localhost:8080/",
          "height": 282
        },
        "outputId": "2e066b95-2a82-4864-93fb-9111b956dded"
      },
      "execution_count": 365,
      "outputs": [
        {
          "output_type": "execute_result",
          "data": {
            "text/plain": [
              "<function matplotlib.pyplot.show>"
            ]
          },
          "metadata": {},
          "execution_count": 365
        },
        {
          "output_type": "display_data",
          "data": {
            "image/png": "[encoded data removed]",
            "text/plain": [
              "<Figure size 432x288 with 1 Axes>"
            ]
          },
          "metadata": {
            "needs_background": "light"
          }
        }
      ]
    },
    {
      "cell_type": "markdown",
      "source": [
        "**Observations:**\n",
        "\n",
        "Accordint to the graph of Mean Square Error the curve for MSE becomes flat after lambda=8 i.e ln(lambda)=2.07 and also after plotting the train error, test error and variance with bias^2 we can observe the value of lambda as the intersecting point of bias^2 and variance i.e. around 8 i.e ln(lambda)=2.07.\n",
        "So yes the value of lambda is almost same in both the cases.\n",
        "\n",
        "With respect to bias variance tradeoff the model is giving High Variance and Low Bias at lambda < 4 but when lambda > = 4 then then we have low variance and low bias so this is the value that we needed. \n"
      ],
      "metadata": {
        "id": "vnZJJ1SyKepU"
      }
    }
  ]
}