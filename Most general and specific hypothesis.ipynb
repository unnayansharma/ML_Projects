{
  "nbformat": 4,
  "nbformat_minor": 0,
  "metadata": {
    "colab": {
      "name": "ML1.ipynb",
      "provenance": [],
      "collapsed_sections": []
    },
    "kernelspec": {
      "name": "python3",
      "display_name": "Python 3"
    },
    "language_info": {
      "name": "python"
    }
  },
  "cells": [
    {
      "cell_type": "markdown",
      "source": [
        "Creating The DataSet"
      ],
      "metadata": {
        "id": "SQIwBqQdzThZ"
      }
    },
    {
      "cell_type": "code",
      "execution_count": null,
      "metadata": {
        "colab": {
          "base_uri": "https://localhost:8080/"
        },
        "id": "nN_9jhNnxqYf",
        "outputId": "cdc94f97-0d0e-44ab-d560-51541456a105"
      },
      "outputs": [
        {
          "output_type": "stream",
          "name": "stdout",
          "text": [
            "          X1        X2  Y\n",
            "0   8.122157  6.125224  0\n",
            "1   4.520881  5.786290  1\n",
            "2   5.547270  4.452629  1\n",
            "3   2.834773  4.279430  1\n",
            "4   0.392990  2.055182  0\n",
            "5   7.526137  2.645400  0\n",
            "6   0.634036  7.420324  0\n",
            "7   7.188721  7.388343  0\n",
            "8   2.850708  5.368130  1\n",
            "9   5.441655  4.004394  1\n",
            "10  0.298856  6.612386  0\n",
            "11  4.991138  4.774583  1\n",
            "12  5.689464  4.902085  1\n",
            "13  0.784894  1.367227  0\n",
            "14  3.172748  4.557789  1\n",
            "15  1.467153  6.643514  0\n",
            "16  3.195752  4.731711  1\n",
            "17  8.957384  1.825907  0\n",
            "18  2.208292  4.853724  1\n",
            "19  7.288861  2.754018  0\n",
            "20  6.636944  5.301507  1\n",
            "21  2.861615  4.489474  1\n",
            "22  6.799821  5.570038  1\n",
            "23  6.237862  5.001434  1\n",
            "24  7.156775  2.218155  0\n",
            "25  7.054678  1.860112  0\n",
            "26  3.651530  5.884634  1\n",
            "27  0.225398  6.996226  0\n",
            "28  7.927860  7.631464  0\n",
            "29  5.080606  5.203674  1\n"
          ]
        }
      ],
      "source": [
        "import pandas as pd\n",
        "import numpy as np\n",
        "from numpy import random\n",
        "y=random.choice([0,1],p=[0.5,0.5],size=(30))\n",
        "data=[]\n",
        "for i in y:\n",
        "    if(i==1):\n",
        "        x1=np.random.uniform(2,7)\n",
        "        x2=np.random.uniform(4,6)\n",
        "        data.append([x1,x2,i])\n",
        "    elif(i==0):\n",
        "        x1=random.choice([np.random.uniform(0,2),np.random.uniform(7,9)])\n",
        "        x2=random.choice([np.random.uniform(1,3),np.random.uniform(6,8)])\n",
        "        data.append([x1,x2,i])\n",
        "df=pd.DataFrame(data,columns=['X1','X2','Y'])\n",
        "print(df)"
      ]
    },
    {
      "cell_type": "markdown",
      "source": [
        "Color code the examples with yi = 1 as red and yi = 0 as green and plot the dataset."
      ],
      "metadata": {
        "id": "0H9SxBm-zbiJ"
      }
    },
    {
      "cell_type": "code",
      "source": [
        "import matplotlib.pyplot as plt\n",
        "import seaborn as sns\n",
        "d={'color':['g','r']}\n",
        "sns.set_style(\"whitegrid\")\n",
        "ax=sns.FacetGrid(df,hue_kws=d,hue=\"Y\",height=4)\\\n",
        ".map(plt.scatter,\"X1\",\"X2\")\\\n",
        ".add_legend()\n",
        "plt.show()"
      ],
      "metadata": {
        "colab": {
          "base_uri": "https://localhost:8080/",
          "height": 297
        },
        "id": "2qcoE-N2x3Ux",
        "outputId": "a76532d8-f655-40ce-d1f4-164816689584"
      },
      "execution_count": null,
      "outputs": [
        {
          "output_type": "display_data",
          "data": {
            "image/png": "[encoded data removed]",
            "text/plain": [
              "<Figure size 330.375x288 with 1 Axes>"
            ]
          },
          "metadata": {}
        }
      ]
    },
    {
      "cell_type": "markdown",
      "source": [
        "Write a program to find most specific and most general hypothesis when hypothesis\n",
        "class is considered as all possible Rectangles. Plot both the obtained hypothesis along\n",
        "with the dataset."
      ],
      "metadata": {
        "id": "e_BoW_XxzfUD"
      }
    },
    {
      "cell_type": "code",
      "source": [
        "# most specific \n",
        "import matplotlib.pyplot as plt\n",
        "import seaborn as sns\n",
        "d={'color':['g','r']}\n",
        "sns.set_style(\"whitegrid\")\n",
        "ax=sns.FacetGrid(df,hue_kws=d,hue=\"Y\",height=4)\\\n",
        ".map(plt.scatter,\"X1\",\"X2\")\\\n",
        ".add_legend()\n",
        "from matplotlib.patches import Rectangle\n",
        "min_coordinate_x1 = df[df['Y'] == 1]['X1'].min()\n",
        "min_coordinate_x2 = df[df['Y'] == 1]['X2'].min()\n",
        "max_coordinate_x1 = df[df['Y'] == 1]['X1'].max()\n",
        "max_coordinate_x2 = df[df['Y'] == 1]['X2'].max()\n",
        "rect=Rectangle((min_coordinate_x1,min_coordinate_x2),(max_coordinate_x1-min_coordinate_x1),(max_coordinate_x2-min_coordinate_x2),fill=False,edgecolor='green')\n",
        "plt.gca().add_patch(rect)\n",
        "plt.show()"
      ],
      "metadata": {
        "colab": {
          "base_uri": "https://localhost:8080/",
          "height": 297
        },
        "id": "lfMqsehYx9K4",
        "outputId": "9a71fb35-4e21-49cd-fb96-f3734475c795"
      },
      "execution_count": null,
      "outputs": [
        {
          "output_type": "display_data",
          "data": {
            "image/png": "[encoded data removed]",
            "text/plain": [
              "<Figure size 330.375x288 with 1 Axes>"
            ]
          },
          "metadata": {}
        }
      ]
    },
    {
      "cell_type": "code",
      "source": [
        "# most general\n",
        "import matplotlib.pyplot as plt\n",
        "import seaborn as sns\n",
        "d={'color':['g','r']}\n",
        "sns.set_style(\"whitegrid\")\n",
        "ax=sns.FacetGrid(df,hue_kws=d,hue=\"Y\",height=4)\\\n",
        ".map(plt.scatter,\"X1\",\"X2\")\\\n",
        ".add_legend()\n",
        "from matplotlib.patches import Rectangle\n",
        "X_1_0_2=[]\n",
        "X_1=df[df['Y'] == 0]['X1']\n",
        "X_2=df[df['Y'] == 0]['X2']\n",
        "for i in X_1:\n",
        "  if(i>=0 and i<=2):\n",
        "    X_1_0_2.append(i)\n",
        "g_min_x=max(X_1_0_2)\n",
        "\n",
        "X_2_1_3=[]\n",
        "for i in X_2:\n",
        "  if(i>=1 and i<=3):\n",
        "    X_2_1_3.append(i)\n",
        "g_min_y=max(X_2_1_3)\n",
        "\n",
        "X_1_7_9=[]\n",
        "for i in X_1:\n",
        "  if(i>=7 and i<=9):\n",
        "    X_1_7_9.append(i)\n",
        "g_max_x=min(X_1_7_9)\n",
        "\n",
        "X_2_6_8=[]\n",
        "for i in X_2:\n",
        "  if(i>=6 and i<=8):\n",
        "    X_2_6_8.append(i)\n",
        "g_max_y=min(X_2_6_8)\n",
        "\n",
        "print(g_min_x,g_min_y,g_max_x,g_max_y)\n",
        "rect=Rectangle((g_min_x,g_min_y),(g_max_x-g_min_x),(g_max_y-g_min_x),fill=False,edgecolor='green')\n",
        "plt.gca().add_patch(rect)\n",
        "plt.show()"
      ],
      "metadata": {
        "colab": {
          "base_uri": "https://localhost:8080/",
          "height": 314
        },
        "id": "bsnL7PZgFxHm",
        "outputId": "1d4d0d20-7b1d-42ff-f02c-8f549d7d0306"
      },
      "execution_count": null,
      "outputs": [
        {
          "output_type": "stream",
          "name": "stdout",
          "text": [
            "1.4671531210700113 2.754018097230328 7.054678386830714 6.125223979746246\n"
          ]
        },
        {
          "output_type": "display_data",
          "data": {
            "image/png": "[encoded data removed]",
            "text/plain": [
              "<Figure size 330.375x288 with 1 Axes>"
            ]
          },
          "metadata": {}
        }
      ]
    },
    {
      "cell_type": "markdown",
      "source": [
        "Write a program to find most specific and most general hypothesis when hypothesis\n",
        "class is considered as all possible Circles. Plot both the hypothesis obtained along with\n",
        "the dataset."
      ],
      "metadata": {
        "id": "7LDzz_ejzhN_"
      }
    },
    {
      "cell_type": "code",
      "source": [
        "# specific hypothesis\n",
        "import matplotlib.pyplot as plt\n",
        "import seaborn as sns\n",
        "import math\n",
        "d={'color':['g','r']}\n",
        "sns.set_style(\"whitegrid\")\n",
        "ax=sns.FacetGrid(df,hue_kws=d,hue=\"Y\",height=4)\\\n",
        ".map(plt.scatter,\"X1\",\"X2\")\\\n",
        ".add_legend()\n",
        "from matplotlib.patches import Circle\n",
        "x = df[df['Y'] == 1]['X1']\n",
        "y = df[df['Y'] == 1]['X2']\n",
        "c_x,c_y = (sum(x) / len(x), sum(y) / len(y))\n",
        "radius=max(math.sqrt((min_coordinate_x1-c_x)**2 + (min_coordinate_x2-c_y)**2),math.sqrt((max_coordinate_x1-c_x)**2 + (max_coordinate_x2-c_y)**2))\n",
        "circle=Circle([c_x,c_y],radius,fill=False,edgecolor='green')\n",
        "plt.gca().add_patch(circle)\n",
        "plt.show()"
      ],
      "metadata": {
        "colab": {
          "base_uri": "https://localhost:8080/",
          "height": 297
        },
        "id": "xVcbSxtx03q6",
        "outputId": "49985c1c-5aa6-42a0-ecf9-bc6c473c43f1"
      },
      "execution_count": null,
      "outputs": [
        {
          "output_type": "display_data",
          "data": {
            "image/png": "[encoded data removed]",
            "text/plain": [
              "<Figure size 330.375x288 with 1 Axes>"
            ]
          },
          "metadata": {}
        }
      ]
    },
    {
      "cell_type": "code",
      "source": [
        "# general hypothesis\n",
        "import matplotlib.pyplot as plt\n",
        "import seaborn as sns\n",
        "import math\n",
        "d={'color':['g','r']}\n",
        "sns.set_style(\"whitegrid\")\n",
        "ax=sns.FacetGrid(df,hue_kws=d,hue=\"Y\",height=4)\\\n",
        ".map(plt.scatter,\"X1\",\"X2\")\\\n",
        ".add_legend()\n",
        "from matplotlib.patches import Circle\n",
        "x = df[df['Y'] == 1]['X1']\n",
        "y = df[df['Y'] == 1]['X2']\n",
        "c_x,c_y = (sum(x) / len(x), sum(y) / len(y))\n",
        "print(g_max_x,g_max_y)\n",
        "print(g_min_x,g_min_y)\n",
        "radius=min(math.sqrt((g_min_x-c_x)**2 + (g_min_y-c_y)**2),math.sqrt((g_max_x-c_x)**2 + (g_max_y-c_y)**2),math.sqrt((g_max_x-c_x)**2 + (g_min_y-c_y)**2),math.sqrt((g_min_x-c_x)**2 + (g_max_y-c_y)**2))\n",
        "circle=Circle([c_x,c_y],radius,fill=False,edgecolor='green')\n",
        "plt.gca().add_patch(circle)\n",
        "plt.show()"
      ],
      "metadata": {
        "colab": {
          "base_uri": "https://localhost:8080/",
          "height": 332
        },
        "id": "z7rXhv_lWV8c",
        "outputId": "fc71a239-b39d-412b-af66-1ecf82da8839"
      },
      "execution_count": null,
      "outputs": [
        {
          "output_type": "stream",
          "name": "stdout",
          "text": [
            "7.054678386830714 6.125223979746246\n",
            "1.4671531210700113 2.754018097230328\n"
          ]
        },
        {
          "output_type": "display_data",
          "data": {
            "image/png": "[encoded data removed]",
            "text/plain": [
              "<Figure size 330.375x288 with 1 Axes>"
            ]
          },
          "metadata": {}
        }
      ]
    },
    {
      "cell_type": "markdown",
      "source": [
        "Mention any observations corresponding to second and third points."
      ],
      "metadata": {
        "id": "Ge59cteRzkj_"
      }
    },
    {
      "cell_type": "markdown",
      "source": [
        "**Observations**\n",
        "\n",
        "We can clearly see that the Rectangular hypothesis class is fitting the plot perfectly when Y=1, but when we are using a circle for hypothesis class then it is irregular and most of the points just separated out in a small portion of it.\n",
        "So for this graph Rectangle hypothesis is more suitable\n",
        "\n",
        "Also the specific hypothesis is better than th general hypothesis in any case"
      ],
      "metadata": {
        "id": "KPLogI9ezpsy"
      }
    }
  ]
}